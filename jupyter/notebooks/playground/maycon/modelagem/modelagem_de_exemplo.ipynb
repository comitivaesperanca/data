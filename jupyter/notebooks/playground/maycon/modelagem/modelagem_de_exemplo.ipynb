{
 "cells": [
  {
   "cell_type": "code",
   "execution_count": 186,
   "metadata": {},
   "outputs": [],
   "source": [
    "import pandas as pd\n",
    "import numpy as np\n",
    "import re\n",
    "\n",
    "## ler arquivo json em pandas\n",
    "df = pd.read_json('project-1-at-2023-04-27-03-26-58dd1708.json')\n",
    "## expandir coluna annotations\n",
    "df = pd.concat([df.drop(['annotations'], axis=1), df['annotations'].apply(pd.Series)], axis=1)\n",
    "## expandir coluna 0 e renomear para annotations\n",
    "df = pd.concat([df.drop([0], axis=1), df[0].apply(pd.Series)], axis=1)\n",
    "## expandir coluna result e renomear para result\n",
    "df = pd.concat([df.drop(['result'], axis=1), df['result'].apply(pd.Series)], axis=1)\n",
    "## expandir coluna 0 e renomear para result\n",
    "df = pd.concat([df.drop([0], axis=1), df[0].apply(pd.Series)], axis=1)\n",
    "## expandir coluna value e renomear para value\n",
    "df = pd.concat([df.drop(['value'], axis=1), df['value'].apply(pd.Series)], axis=1)\n",
    "## dropar choices nulos\n",
    "df = df.dropna(subset=['choices'])\n",
    "## obter choices \n",
    "df['choices'] = df['choices'].apply(lambda x: x[0])\n",
    "\n",
    "\n",
    "## expandir coluna data\n",
    "df = pd.concat([df.drop(['data'], axis=1), df['data'].apply(pd.Series)], axis=1)\n",
    "padrao_data_cepea = r\"Cepea, \\d{2}/\\d{2}/\\d{4} - \"\n",
    "df['noticia'] = df['noticia'].apply(lambda x: re.sub(padrao_data_cepea, '', x))\n",
    "\n",
    "## conter apenas soja no titulo\n",
    "#df = df[df['titulo'].str.contains('SOJA')]\n",
    "columns_to_select = ['id', 'data', 'noticia', 'titulo', 'choices']\n",
    "df = df[columns_to_select]\n",
    "df_modelo = df[:122]\n",
    "df_validacao = df[122:]\n",
    "\n"
   ]
  },
  {
   "cell_type": "code",
   "execution_count": 187,
   "metadata": {},
   "outputs": [],
   "source": [
    "from sklearn.feature_extraction.text import TfidfVectorizer\n",
    "from sklearn.model_selection import train_test_split\n",
    "from sklearn.naive_bayes import MultinomialNB\n",
    "from sklearn.metrics import classification_report, confusion_matrix"
   ]
  },
  {
   "cell_type": "code",
   "execution_count": 188,
   "metadata": {},
   "outputs": [
    {
     "name": "stdout",
     "output_type": "stream",
     "text": [
      "              precision    recall  f1-score   support\n",
      "\n",
      "    Negativa       0.33      0.44      0.38         9\n",
      "      Neutra       0.00      0.00      0.00         7\n",
      "    Positiva       0.56      0.67      0.61        21\n",
      "\n",
      "    accuracy                           0.49        37\n",
      "   macro avg       0.30      0.37      0.33        37\n",
      "weighted avg       0.40      0.49      0.44        37\n",
      "\n"
     ]
    }
   ],
   "source": [
    "X = df_modelo['noticia']\n",
    "y = df_modelo['choices']\n",
    "\n",
    "vectorizer = TfidfVectorizer()\n",
    "X = vectorizer.fit_transform(X)\n",
    "\n",
    "X_train, X_test, y_train, y_test = train_test_split(X, y, test_size=0.3, random_state=123)\n",
    "\n",
    "\n",
    "nb = MultinomialNB()\n",
    "nb.fit(X_train, y_train)\n",
    "\n",
    "y_pred = nb.predict(X_test)\n",
    "print(classification_report(y_test, y_pred, zero_division=0))\n"
   ]
  },
  {
   "cell_type": "code",
   "execution_count": 213,
   "metadata": {},
   "outputs": [
    {
     "name": "stdout",
     "output_type": "stream",
     "text": [
      "              precision    recall  f1-score   support\n",
      "\n",
      "    Negativa       0.53      0.91      0.67        22\n",
      "      Neutra       0.00      0.00      0.00        10\n",
      "    Positiva       0.73      0.47      0.57        17\n",
      "\n",
      "    accuracy                           0.57        49\n",
      "   macro avg       0.42      0.46      0.41        49\n",
      "weighted avg       0.49      0.57      0.50        49\n",
      "\n"
     ]
    }
   ],
   "source": [
    "## validar o modelo\n",
    "X_validacao = df_validacao['noticia']\n",
    "y_validacao = df_validacao['choices']\n",
    "\n",
    "X_validacao = vectorizer.transform(X_validacao)\n",
    "\n",
    "y_pred = nb.predict(X_validacao)\n",
    "\n",
    "print(classification_report(y_validacao, y_pred, zero_division=0))\n",
    "\n",
    "frase = 'mercado da soja em baixa'\n",
    "frase = vectorizer.transform([frase])\n",
    "nb.predict(frase)\n",
    "\n",
    "# ## gerar dataframe com resultados\n",
    "# df_resultado = pd.DataFrame({'noticia': df_validacao['noticia'], 'y_validacao': y_validacao, 'y_pred': y_pred})\n",
    "# df_resultado\n",
    "\n",
    "# ## salvar modelo\n",
    "import pickle\n",
    "pickle.dump(nb, open('modelo.pkl', 'wb'))\n",
    "pickle.dump(vectorizer, open('vectorizer.pkl', 'wb'))\n"
   ]
  },
  {
   "cell_type": "code",
   "execution_count": 215,
   "metadata": {},
   "outputs": [
    {
     "data": {
      "text/plain": [
       "array(['Positiva'], dtype='<U14')"
      ]
     },
     "execution_count": 215,
     "metadata": {},
     "output_type": "execute_result"
    }
   ],
   "source": [
    "## carregar modelo\n",
    "modelo = pickle.load(open('modelo.pkl', 'rb'))\n",
    "vectorizer = pickle.load(open('vectorizer.pkl', 'rb'))\n",
    "\n",
    "## testar modelo\n",
    "frase = 'mercado da soja em alta'\n",
    "frase = vectorizer.transform([frase])\n",
    "modelo.predict(frase)\n"
   ]
  }
 ],
 "metadata": {
  "kernelspec": {
   "display_name": "bdgd",
   "language": "python",
   "name": "python3"
  },
  "language_info": {
   "codemirror_mode": {
    "name": "ipython",
    "version": 3
   },
   "file_extension": ".py",
   "mimetype": "text/x-python",
   "name": "python",
   "nbconvert_exporter": "python",
   "pygments_lexer": "ipython3",
   "version": "3.8.12"
  },
  "orig_nbformat": 4
 },
 "nbformat": 4,
 "nbformat_minor": 2
}
