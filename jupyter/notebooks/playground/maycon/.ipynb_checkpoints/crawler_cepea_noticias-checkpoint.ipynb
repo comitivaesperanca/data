{
 "cells": [
  {
   "cell_type": "code",
   "execution_count": 1,
   "id": "01ebde11-161d-40d7-8819-b8049e8d80e5",
   "metadata": {
    "tags": []
   },
   "outputs": [],
   "source": [
    "from bs4 import BeautifulSoup\n",
    "from lxml import etree\n",
    "import requests\n",
    "import re\n",
    "import pandas as pd\n",
    "import csv"
   ]
  },
  {
   "cell_type": "code",
   "execution_count": 5,
   "id": "13ba0244-8aa2-43c8-9fd7-b314a5288210",
   "metadata": {
    "tags": []
   },
   "outputs": [
    {
     "name": "stdout",
     "output_type": "stream",
     "text": [
      "12225\n"
     ]
    }
   ],
   "source": [
    "import requests\n",
    "from bs4 import BeautifulSoup\n",
    "from concurrent.futures import ThreadPoolExecutor\n",
    "\n",
    "# Define uma função para obter os links de uma página\n",
    "def get_links(url):\n",
    "    headers = {\n",
    "        'User-Agent': 'Mozilla/5.0 (Windows NT 10.0; Win64; x64) AppleWebKit/537.36 (KHTML, like Gecko) Chrome/58.0.3029.110 Safari/537.36'\n",
    "    }\n",
    "\n",
    "    response = requests.get(url, headers=headers)\n",
    "    html_content = response.text\n",
    "    soup = BeautifulSoup(html_content, 'html.parser')\n",
    "\n",
    "    matching_elements = soup.find_all('a', class_='box-texto-relacionado')\n",
    "    return [element.attrs['href'] for element in matching_elements]\n",
    "\n",
    "# Define a lista de URLs a serem requisitadas\n",
    "\n",
    "base_url = 'https://www.cepea.esalq.usp.br/br/diarias-de-mercado/arroz-cepea-demanda-aquecida-mantem-indicador-firme.aspx?pagina='\n",
    "urls = []\n",
    "for i in range(815):\n",
    "    url = base_url + str(i)\n",
    "    urls.append(url)\n",
    "\n",
    "# Executa as requisições em paralelo e armazena os links em um único vetor\n",
    "links = []\n",
    "with ThreadPoolExecutor() as executor:\n",
    "    for result in executor.map(get_links, urls):\n",
    "        links += result\n",
    "\n",
    "print(len(links))"
   ]
  },
  {
   "cell_type": "code",
   "execution_count": 8,
   "id": "106c5b00-46b3-4967-ad8f-6be9e78d9f13",
   "metadata": {
    "tags": []
   },
   "outputs": [
    {
     "ename": "NameError",
     "evalue": "name 'csv' is not defined",
     "output_type": "error",
     "traceback": [
      "\u001b[0;31m---------------------------------------------------------------------------\u001b[0m",
      "\u001b[0;31mNameError\u001b[0m                                 Traceback (most recent call last)",
      "Cell \u001b[0;32mIn[8], line 26\u001b[0m\n\u001b[1;32m     23\u001b[0m noticias\u001b[38;5;241m.\u001b[39mappend({\u001b[38;5;124m'\u001b[39m\u001b[38;5;124mdata\u001b[39m\u001b[38;5;124m'\u001b[39m: data_noticia, \u001b[38;5;124m'\u001b[39m\u001b[38;5;124mtitulo\u001b[39m\u001b[38;5;124m'\u001b[39m: titulo, \u001b[38;5;124m'\u001b[39m\u001b[38;5;124murl\u001b[39m\u001b[38;5;124m'\u001b[39m: url, \u001b[38;5;124m'\u001b[39m\u001b[38;5;124mnoticia\u001b[39m\u001b[38;5;124m'\u001b[39m: result})\n\u001b[1;32m     24\u001b[0m df \u001b[38;5;241m=\u001b[39m pd\u001b[38;5;241m.\u001b[39mDataFrame(noticias)\n\u001b[0;32m---> 26\u001b[0m df\u001b[38;5;241m.\u001b[39mto_csv(\u001b[38;5;124m'\u001b[39m\u001b[38;5;124m../../../../work/data/ingestion/RAW/noticias_cepea.csv\u001b[39m\u001b[38;5;124m'\u001b[39m, index\u001b[38;5;241m=\u001b[39m\u001b[38;5;28;01mFalse\u001b[39;00m, mode\u001b[38;5;241m=\u001b[39m\u001b[38;5;124m'\u001b[39m\u001b[38;5;124ma\u001b[39m\u001b[38;5;124m'\u001b[39m, header\u001b[38;5;241m=\u001b[39m\u001b[38;5;28;01mTrue\u001b[39;00m,  quoting\u001b[38;5;241m=\u001b[39m\u001b[43mcsv\u001b[49m\u001b[38;5;241m.\u001b[39mQUOTE_NONNUMERIC, escapechar\u001b[38;5;241m=\u001b[39m\u001b[38;5;124m\"\u001b[39m\u001b[38;5;130;01m\\\\\u001b[39;00m\u001b[38;5;124m\"\u001b[39m, doublequote\u001b[38;5;241m=\u001b[39m\u001b[38;5;28;01mFalse\u001b[39;00m)\n",
      "\u001b[0;31mNameError\u001b[0m: name 'csv' is not defined"
     ]
    }
   ],
   "source": [
    "def obter_noticias(url: str):\n",
    "    headers = {\n",
    "        'User-Agent': 'Mozilla/5.0 (Windows NT 10.0; Win64; x64) AppleWebKit/537.36 (KHTML, like Gecko) Chrome/58.0.3029.110 Safari/537.36'\n",
    "    }\n",
    "\n",
    "    response = requests.get(url, headers=headers)\n",
    "    html_content = response.text\n",
    "    soup = BeautifulSoup(html_content, 'html.parser')\n",
    "\n",
    "    dom = etree.HTML(str(soup))\n",
    "    noticia = dom.xpath('//*[@id=\"imagenet-content\"]/div[2]/div[1]/div/div/div[1]/div[1]/p')[0].text\n",
    "    titulo = dom.xpath('//*[@id=\"imagenet-content\"]/div[2]/div[1]/div/h2')[0].text\n",
    "    return noticia, url, titulo\n",
    "\n",
    "noticias = []\n",
    "with ThreadPoolExecutor(max_workers=8) as executor:\n",
    "    for result, url, titulo in executor.map(obter_noticias, links):\n",
    "        padrao_data = r'\\b\\d{1,2}/\\d{2}/\\d{4}\\b'\n",
    "        try:\n",
    "            data_noticia = re.findall(padrao_data, result)[0]\n",
    "        except:\n",
    "            data_noticia = None\n",
    "        noticias.append({'data': data_noticia, 'titulo': titulo, 'url': url, 'noticia': result})\n",
    "        df = pd.DataFrame(noticias)\n",
    "\n",
    "        df.to_csv('../../../../work/data/ingestion/RAW/noticias_cepea.csv', index=False, mode='a', header=True,  quoting=csv.QUOTE_NONNUMERIC, escapechar=\"\\\\\", doublequote=False)"
   ]
  },
  {
   "cell_type": "code",
   "execution_count": null,
   "id": "d260ac6d-4425-4847-83ac-0262b8274178",
   "metadata": {},
   "outputs": [],
   "source": []
  },
  {
   "cell_type": "code",
   "execution_count": null,
   "id": "ba64d2b0-8bdc-45ae-86f1-29bbb7526cee",
   "metadata": {},
   "outputs": [],
   "source": []
  }
 ],
 "metadata": {
  "kernelspec": {
   "display_name": "Python 3 (ipykernel)",
   "language": "python",
   "name": "python3"
  },
  "language_info": {
   "codemirror_mode": {
    "name": "ipython",
    "version": 3
   },
   "file_extension": ".py",
   "mimetype": "text/x-python",
   "name": "python",
   "nbconvert_exporter": "python",
   "pygments_lexer": "ipython3",
   "version": "3.10.10"
  }
 },
 "nbformat": 4,
 "nbformat_minor": 5
}
