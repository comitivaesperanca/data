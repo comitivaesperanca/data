{
 "cells": [
  {
   "cell_type": "code",
   "execution_count": 1,
   "metadata": {},
   "outputs": [],
   "source": [
    "from bs4 import BeautifulSoup\n",
    "from lxml import etree\n",
    "import requests\n",
    "import re\n",
    "import pandas as pd\n",
    "import csv"
   ]
  },
  {
   "cell_type": "code",
   "execution_count": null,
   "metadata": {},
   "outputs": [],
   "source": [
    "# Define uma função para obter os links de uma página\n",
    "def get_links(url):\n",
    "    headers = {\n",
    "        'User-Agent': 'Mozilla/5.0 (Windows NT 10.0; Win64; x64) AppleWebKit/537.36 (KHTML, like Gecko) Chrome/58.0.3029.110 Safari/537.36'\n",
    "    }\n",
    "\n",
    "    response = requests.get(url, headers=headers)\n",
    "    html_content = response.text\n",
    "    soup = BeautifulSoup(html_content, 'html.parser')\n",
    "\n",
    "    dom = etree.HTML(str(soup))\n",
    "    links = dom.xpath('//*[@id=\"content\"]/div[1]/ul')[0].xpath('.//a/@href')\n",
    "    ## filter if the link is not a video\n",
    "    links = [link for link in links if not re.search('videos', link)]\n",
    "    ## join https://www.noticiasagricolas.com.br/ to the links\n",
    "    links = ['https://www.noticiasagricolas.com.br' + link for link in links]\n",
    "\n",
    "    return links\n",
    "\n",
    "for i in range(1, 7000):\n",
    "    links = get_links('https://www.noticiasagricolas.com.br/conteudo/?page=' + str(i))\n",
    "    for link in links:\n",
    "        noticias = []\n",
    "        headers = {\n",
    "            'User-Agent': 'Mozilla/5.0 (Windows NT 10.0; Win64; x64) AppleWebKit/537.36 (KHTML, like Gecko) Chrome/58.0.3029.110 Safari/537.36'\n",
    "        }\n",
    "        response = requests.get(link, headers=headers)\n",
    "        html_content = response.text\n",
    "        soup = BeautifulSoup(html_content, 'html.parser')\n",
    "        dom = etree.HTML(str(soup))\n",
    "        padrao_data = r'\\d{2}/\\d{2}/\\d{4} \\d{2}:\\d{2}'\n",
    "        data = dom.xpath('//*[@id=\"content\"]/div[1]')[0].xpath('.//text()')[0]\n",
    "        titulo = dom.xpath('//*[@id=\"content\"]/h1')[0].xpath('.//text()')[0]\n",
    "        materia = dom.xpath('//*[@id=\"content\"]/div[3]/div[2]')[0].xpath('.//text()')\n",
    "        ## get only <p> elements\n",
    "        materia = [m for m in materia if not m.startswith('\\n') and not m.startswith('\\xa0')]\n",
    "        materia = ' '.join(materia)\n",
    "        data = re.findall(padrao_data, data)[0]\n",
    "        noticias.append({'data': data, 'titulo': titulo, 'materia': materia})\n",
    "        df = pd.DataFrame(noticias)\n",
    "        df.to_csv('../../../../work/data/ingestion/RAW/noticias_agricolas.csv', index=False, mode='a', header=False, quoting=csv.QUOTE_NONNUMERIC, escapechar=\"\\\\\", doublequote=False)"
   ]
  },
  {
   "cell_type": "code",
   "execution_count": null,
   "metadata": {},
   "outputs": [],
   "source": []
  }
 ],
 "metadata": {
  "kernelspec": {
   "display_name": "Python 3 (ipykernel)",
   "language": "python",
   "name": "python3"
  },
  "language_info": {
   "codemirror_mode": {
    "name": "ipython",
    "version": 3
   },
   "file_extension": ".py",
   "mimetype": "text/x-python",
   "name": "python",
   "nbconvert_exporter": "python",
   "pygments_lexer": "ipython3",
   "version": "3.10.10"
  }
 },
 "nbformat": 4,
 "nbformat_minor": 4
}
