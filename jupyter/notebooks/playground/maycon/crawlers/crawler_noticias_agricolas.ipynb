{
 "cells": [
  {
   "cell_type": "code",
   "execution_count": 2,
   "metadata": {
    "tags": []
   },
   "outputs": [],
   "source": [
    "from bs4 import BeautifulSoup\n",
    "from lxml import etree\n",
    "import requests\n",
    "import re\n",
    "import pandas as pd\n",
    "import csv"
   ]
  },
  {
   "cell_type": "code",
   "execution_count": 4,
   "metadata": {
    "tags": []
   },
   "outputs": [],
   "source": [
    "# Define uma função para obter os links de uma página\n",
    "def get_links(url):\n",
    "    headers = {\n",
    "        'User-Agent': 'Mozilla/5.0 (Windows NT 10.0; Win64; x64) AppleWebKit/537.36 (KHTML, like Gecko) Chrome/58.0.3029.110 Safari/537.36'\n",
    "    }\n",
    "\n",
    "    response = requests.get(url, headers=headers)\n",
    "    html_content = response.text\n",
    "    soup = BeautifulSoup(html_content, 'html.parser')\n",
    "\n",
    "    dom = etree.HTML(str(soup))\n",
    "    links = dom.xpath('//*[@id=\"content\"]/div[1]/ul')[0].xpath('.//a/@href')\n",
    "    ## filter if the link is not a video\n",
    "    links = [link for link in links if not re.search('videos', link)]\n",
    "    ## join https://www.noticiasagricolas.com.br/ to the links\n",
    "    links = ['https://www.noticiasagricolas.com.br' + link for link in links]\n",
    "\n",
    "    return links\n",
    "\n",
    "for i in range(1, 2):\n",
    "    links = get_links('https://www.noticiasagricolas.com.br/conteudo/?page=' + str(i))\n",
    "    for link in links:\n",
    "        noticias = []\n",
    "        headers = {\n",
    "            'User-Agent': 'Mozilla/5.0 (Windows NT 10.0; Win64; x64) AppleWebKit/537.36 (KHTML, like Gecko) Chrome/58.0.3029.110 Safari/537.36'\n",
    "        }\n",
    "        response = requests.get(link, headers=headers)\n",
    "        html_content = response.text\n",
    "        soup = BeautifulSoup(html_content, 'html.parser')\n",
    "        dom = etree.HTML(str(soup))\n",
    "        padrao_data = r'\\d{2}/\\d{2}/\\d{4} \\d{2}:\\d{2}'\n",
    "        data = dom.xpath('//*[@id=\"content\"]/div[1]')[0].xpath('.//text()')[0]\n",
    "        titulo = dom.xpath('//*[@id=\"content\"]/h1')[0].xpath('.//text()')[0]\n",
    "        materia = dom.xpath('//*[@id=\"content\"]/div[3]/div[2]')[0].xpath('.//text()')\n",
    "        ## get only <p> elements\n",
    "        materia = [m for m in materia if not m.startswith('\\n') and not m.startswith('\\xa0')]\n",
    "        materia = ' '.join(materia)\n",
    "        data = re.findall(padrao_data, data)[0]\n",
    "        noticias.append({'data': data, 'titulo': titulo, 'materia': materia})\n",
    "        df = pd.DataFrame(noticias)\n",
    "      #  df.to_csv('../../../../work/data/ingestion/RAW/noticias_agricolas.csv', index=False, mode='a', header=False, quoting=csv.QUOTE_NONNUMERIC, escapechar=\"\\\\\", doublequote=False)"
   ]
  },
  {
   "cell_type": "code",
   "execution_count": null,
   "metadata": {
    "tags": []
   },
   "outputs": [],
   "source": [
    "df = pd.read_csv('../../../../data/ingestion/RAW/noticias_cepea.csv', on_bad_lines='skip')\n",
    "df = df.drop_duplicates('url')\n",
    "df.to_csv('../../../../data/ingestion/RAW/noticias_cepea.csv', index=False, quoting=csv.QUOTE_NONNUMERIC, escapechar=\"\\\\\", doublequote=False)"
   ]
  },
  {
   "cell_type": "code",
   "execution_count": 5,
   "metadata": {
    "tags": []
   },
   "outputs": [
    {
     "data": {
      "text/html": [
       "<div>\n",
       "<style scoped>\n",
       "    .dataframe tbody tr th:only-of-type {\n",
       "        vertical-align: middle;\n",
       "    }\n",
       "\n",
       "    .dataframe tbody tr th {\n",
       "        vertical-align: top;\n",
       "    }\n",
       "\n",
       "    .dataframe thead th {\n",
       "        text-align: right;\n",
       "    }\n",
       "</style>\n",
       "<table border=\"1\" class=\"dataframe\">\n",
       "  <thead>\n",
       "    <tr style=\"text-align: right;\">\n",
       "      <th></th>\n",
       "      <th>data</th>\n",
       "      <th>titulo</th>\n",
       "      <th>materia</th>\n",
       "    </tr>\n",
       "  </thead>\n",
       "  <tbody>\n",
       "    <tr>\n",
       "      <th>0</th>\n",
       "      <td>14/04/2023 16:39</td>\n",
       "      <td>Soja: Quando o produtor brasileiro voltará a v...</td>\n",
       "      <td>A tempestade perfeita não só se formou, como c...</td>\n",
       "    </tr>\n",
       "  </tbody>\n",
       "</table>\n",
       "</div>"
      ],
      "text/plain": [
       "               data                                             titulo   \n",
       "0  14/04/2023 16:39  Soja: Quando o produtor brasileiro voltará a v...  \\\n",
       "\n",
       "                                             materia  \n",
       "0  A tempestade perfeita não só se formou, como c...  "
      ]
     },
     "execution_count": 5,
     "metadata": {},
     "output_type": "execute_result"
    }
   ],
   "source": [
    "df"
   ]
  },
  {
   "cell_type": "code",
   "execution_count": null,
   "metadata": {},
   "outputs": [],
   "source": []
  }
 ],
 "metadata": {
  "kernelspec": {
   "display_name": "Python 3 (ipykernel)",
   "language": "python",
   "name": "python3"
  },
  "language_info": {
   "codemirror_mode": {
    "name": "ipython",
    "version": 3
   },
   "file_extension": ".py",
   "mimetype": "text/x-python",
   "name": "python",
   "nbconvert_exporter": "python",
   "pygments_lexer": "ipython3",
   "version": "3.10.10"
  }
 },
 "nbformat": 4,
 "nbformat_minor": 4
}
