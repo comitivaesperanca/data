{
 "cells": [
  {
   "cell_type": "code",
   "execution_count": 3,
   "id": "1c3a71d4-97ac-4145-889b-2810b8e93888",
   "metadata": {
    "tags": []
   },
   "outputs": [],
   "source": [
    "import feedparser\n",
    "import pandas as pd\n",
    "import os \n",
    "\n",
    "rss_url = 'https://www.beefpoint.com.br/feed/'\n",
    "\n",
    "list_news = feedparser.parse(rss_url)['entries']\n",
    "\n",
    "noticias = []\n",
    "\n",
    "for news in list_news:\n",
    "    noticia = {\n",
    "        'titulo': news.title,\n",
    "        'link': news.link,\n",
    "        'data_publicacao': news.published\n",
    "    }\n",
    "    noticias.append(noticia)\n",
    "\n",
    "# Cria um dataframe com as informações das notícias\n",
    "df_noticias = pd.DataFrame(noticias)\n",
    "\n",
    "# Exibe o dataframe\n",
    "df_noticias.to_csv('../../../../work/data/ingestion/RAW/beefpoint_agro.csv', index=False)\n",
    "# Salva o dataframe\n",
    "#print(os.listdir('../../../../work/data/ingestion/RAW/'))"
   ]
  },
  {
   "cell_type": "code",
   "execution_count": null,
   "id": "36c6c684-11e6-4754-8f14-29c85f7f11c6",
   "metadata": {},
   "outputs": [],
   "source": []
  }
 ],
 "metadata": {
  "kernelspec": {
   "display_name": "Python 3 (ipykernel)",
   "language": "python",
   "name": "python3"
  },
  "language_info": {
   "codemirror_mode": {
    "name": "ipython",
    "version": 3
   },
   "file_extension": ".py",
   "mimetype": "text/x-python",
   "name": "python",
   "nbconvert_exporter": "python",
   "pygments_lexer": "ipython3",
   "version": "3.10.10"
  }
 },
 "nbformat": 4,
 "nbformat_minor": 5
}
