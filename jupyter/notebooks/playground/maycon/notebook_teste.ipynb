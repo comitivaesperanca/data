{
 "cells": [
  {
   "cell_type": "code",
   "execution_count": 1,
   "id": "1c3a71d4-97ac-4145-889b-2810b8e93888",
   "metadata": {
    "tags": []
   },
   "outputs": [
    {
     "name": "stdout",
     "output_type": "stream",
     "text": [
      "96\n"
     ]
    }
   ],
   "source": [
    "valor = 24\n",
    "valor*3\n",
    "print(valor*4)"
   ]
  },
  {
   "cell_type": "code",
   "execution_count": null,
   "id": "cc4761e2-cd11-43d5-9ac8-beb85cfcc778",
   "metadata": {},
   "outputs": [],
   "source": []
  }
 ],
 "metadata": {
  "kernelspec": {
   "display_name": "Python 3 (ipykernel)",
   "language": "python",
   "name": "python3"
  },
  "language_info": {
   "codemirror_mode": {
    "name": "ipython",
    "version": 3
   },
   "file_extension": ".py",
   "mimetype": "text/x-python",
   "name": "python",
   "nbconvert_exporter": "python",
   "pygments_lexer": "ipython3",
   "version": "3.10.10"
  }
 },
 "nbformat": 4,
 "nbformat_minor": 5
}
