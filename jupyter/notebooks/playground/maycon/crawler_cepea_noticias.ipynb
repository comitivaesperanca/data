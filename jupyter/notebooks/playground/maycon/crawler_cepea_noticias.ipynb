{
 "cells": [
  {
   "cell_type": "code",
   "execution_count": 49,
   "id": "01ebde11-161d-40d7-8819-b8049e8d80e5",
   "metadata": {
    "tags": []
   },
   "outputs": [],
   "source": [
    "from bs4 import BeautifulSoup\n",
    "from lxml import etree\n",
    "import requests\n",
    "import re\n",
    "import pandas as pd"
   ]
  },
  {
   "cell_type": "code",
   "execution_count": 52,
   "id": "13ba0244-8aa2-43c8-9fd7-b314a5288210",
   "metadata": {
    "tags": []
   },
   "outputs": [
    {
     "name": "stdout",
     "output_type": "stream",
     "text": [
      "15\n"
     ]
    }
   ],
   "source": [
    "import requests\n",
    "from bs4 import BeautifulSoup\n",
    "from concurrent.futures import ThreadPoolExecutor\n",
    "\n",
    "# Define uma função para obter os links de uma página\n",
    "def get_links(url):\n",
    "    headers = {\n",
    "        'User-Agent': 'Mozilla/5.0 (Windows NT 10.0; Win64; x64) AppleWebKit/537.36 (KHTML, like Gecko) Chrome/58.0.3029.110 Safari/537.36'\n",
    "    }\n",
    "\n",
    "    response = requests.get(url, headers=headers)\n",
    "    html_content = response.text\n",
    "    soup = BeautifulSoup(html_content, 'html.parser')\n",
    "\n",
    "    matching_elements = soup.find_all('a', class_='box-texto-relacionado')\n",
    "    return [element.attrs['href'] for element in matching_elements]\n",
    "\n",
    "# Define a lista de URLs a serem requisitadas\n",
    "\n",
    "base_url = 'https://www.cepea.esalq.usp.br/br/diarias-de-mercado/arroz-cepea-demanda-aquecida-mantem-indicador-firme.aspx?pagina='\n",
    "urls = []\n",
    "for i in range(815):\n",
    "    url = base_url + str(i)\n",
    "    urls.append(url)\n",
    "\n",
    "# Executa as requisições em paralelo e armazena os links em um único vetor\n",
    "links = []\n",
    "with ThreadPoolExecutor() as executor:\n",
    "    for result in executor.map(get_links, urls):\n",
    "        links += result\n",
    "\n",
    "print(len(links))"
   ]
  },
  {
   "cell_type": "code",
   "execution_count": 57,
   "id": "106c5b00-46b3-4967-ad8f-6be9e78d9f13",
   "metadata": {
    "tags": []
   },
   "outputs": [],
   "source": [
    "def obter_noticias(url: str):\n",
    "    headers = {\n",
    "        'User-Agent': 'Mozilla/5.0 (Windows NT 10.0; Win64; x64) AppleWebKit/537.36 (KHTML, like Gecko) Chrome/58.0.3029.110 Safari/537.36'\n",
    "    }\n",
    "\n",
    "    response = requests.get(url, headers=headers)\n",
    "    html_content = response.text\n",
    "    soup = BeautifulSoup(html_content, 'html.parser')\n",
    "\n",
    "    dom = etree.HTML(str(soup))\n",
    "    noticia = dom.xpath('//*[@id=\"imagenet-content\"]/div[2]/div[1]/div/div/div[1]/div[1]/p')[0].text\n",
    "    titulo = dom.xpath('//*[@id=\"imagenet-content\"]/div[2]/div[1]/div/h2')[0].text\n",
    "    return noticia, url, titulo\n",
    "\n",
    "noticias = []\n",
    "with ThreadPoolExecutor(max_workers=8) as executor:\n",
    "    for result, url, titulo in executor.map(obter_noticias, links):\n",
    "        padrao_data = r'\\b\\d{1,2}/\\d{2}/\\d{4}\\b'\n",
    "        try:\n",
    "            data_noticia = re.findall(padrao_data, result)[0]\n",
    "        except:\n",
    "            data_noticia = None\n",
    "        noticias.append({'data': data_noticia, 'titulo': titulo, 'url': url, 'noticia': result})\n",
    "\n",
    "                \n",
    "\n",
    "df = pd.DataFrame(noticias)\n",
    "\n",
    "df.to_csv('tste.csv')"
   ]
  },
  {
   "cell_type": "code",
   "execution_count": null,
   "id": "d260ac6d-4425-4847-83ac-0262b8274178",
   "metadata": {},
   "outputs": [],
   "source": []
  },
  {
   "cell_type": "code",
   "execution_count": null,
   "id": "ba64d2b0-8bdc-45ae-86f1-29bbb7526cee",
   "metadata": {},
   "outputs": [],
   "source": []
  }
 ],
 "metadata": {
  "kernelspec": {
   "display_name": "Python 3 (ipykernel)",
   "language": "python",
   "name": "python3"
  },
  "language_info": {
   "codemirror_mode": {
    "name": "ipython",
    "version": 3
   },
   "file_extension": ".py",
   "mimetype": "text/x-python",
   "name": "python",
   "nbconvert_exporter": "python",
   "pygments_lexer": "ipython3",
   "version": "3.10.6"
  }
 },
 "nbformat": 4,
 "nbformat_minor": 5
}
