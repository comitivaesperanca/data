{
 "cells": [
  {
   "cell_type": "code",
   "execution_count": 9,
   "id": "01ebde11-161d-40d7-8819-b8049e8d80e5",
   "metadata": {
    "tags": []
   },
   "outputs": [],
   "source": [
    "from bs4 import BeautifulSoup\n",
    "from lxml import etree\n",
    "import requests\n",
    "import re\n",
    "import pandas as pd\n",
    "import csv"
   ]
  },
  {
   "cell_type": "code",
   "execution_count": 5,
   "id": "13ba0244-8aa2-43c8-9fd7-b314a5288210",
   "metadata": {
    "tags": []
   },
   "outputs": [
    {
     "name": "stdout",
     "output_type": "stream",
     "text": [
      "12225\n"
     ]
    }
   ],
   "source": [
    "import requests\n",
    "from bs4 import BeautifulSoup\n",
    "from concurrent.futures import ThreadPoolExecutor\n",
    "\n",
    "# Define uma função para obter os links de uma página\n",
    "def get_links(url):\n",
    "    headers = {\n",
    "        'User-Agent': 'Mozilla/5.0 (Windows NT 10.0; Win64; x64) AppleWebKit/537.36 (KHTML, like Gecko) Chrome/58.0.3029.110 Safari/537.36'\n",
    "    }\n",
    "\n",
    "    response = requests.get(url, headers=headers)\n",
    "    html_content = response.text\n",
    "    soup = BeautifulSoup(html_content, 'html.parser')\n",
    "\n",
    "    matching_elements = soup.find_all('a', class_='box-texto-relacionado')\n",
    "    return [element.attrs['href'] for element in matching_elements]\n",
    "\n",
    "# Define a lista de URLs a serem requisitadas\n",
    "\n",
    "base_url = 'https://www.cepea.esalq.usp.br/br/diarias-de-mercado/arroz-cepea-demanda-aquecida-mantem-indicador-firme.aspx?pagina='\n",
    "urls = []\n",
    "for i in range(815):\n",
    "    url = base_url + str(i)\n",
    "    urls.append(url)\n",
    "\n",
    "# Executa as requisições em paralelo e armazena os links em um único vetor\n",
    "links = []\n",
    "with ThreadPoolExecutor() as executor:\n",
    "    for result in executor.map(get_links, urls):\n",
    "        links += result\n",
    "\n",
    "print(len(links))"
   ]
  },
  {
   "cell_type": "code",
   "execution_count": 11,
   "id": "106c5b00-46b3-4967-ad8f-6be9e78d9f13",
   "metadata": {
    "tags": []
   },
   "outputs": [
    {
     "ename": "IndexError",
     "evalue": "list index out of range",
     "output_type": "error",
     "traceback": [
      "\u001b[0;31m---------------------------------------------------------------------------\u001b[0m",
      "\u001b[0;31mIndexError\u001b[0m                                Traceback (most recent call last)",
      "Cell \u001b[0;32mIn[11], line 17\u001b[0m\n\u001b[1;32m     15\u001b[0m \u001b[38;5;28;01mwith\u001b[39;00m ThreadPoolExecutor(max_workers\u001b[38;5;241m=\u001b[39m\u001b[38;5;241m8\u001b[39m) \u001b[38;5;28;01mas\u001b[39;00m executor:\n\u001b[1;32m     16\u001b[0m     noticias \u001b[38;5;241m=\u001b[39m []\n\u001b[0;32m---> 17\u001b[0m     \u001b[38;5;28;01mfor\u001b[39;00m result, url, titulo \u001b[38;5;129;01min\u001b[39;00m executor\u001b[38;5;241m.\u001b[39mmap(obter_noticias, links):\n\u001b[1;32m     18\u001b[0m         padrao_data \u001b[38;5;241m=\u001b[39m \u001b[38;5;124mr\u001b[39m\u001b[38;5;124m'\u001b[39m\u001b[38;5;124m\\\u001b[39m\u001b[38;5;124mb\u001b[39m\u001b[38;5;124m\\\u001b[39m\u001b[38;5;124md\u001b[39m\u001b[38;5;124m{\u001b[39m\u001b[38;5;124m1,2}/\u001b[39m\u001b[38;5;124m\\\u001b[39m\u001b[38;5;124md\u001b[39m\u001b[38;5;132;01m{2}\u001b[39;00m\u001b[38;5;124m/\u001b[39m\u001b[38;5;124m\\\u001b[39m\u001b[38;5;124md\u001b[39m\u001b[38;5;132;01m{4}\u001b[39;00m\u001b[38;5;124m\\\u001b[39m\u001b[38;5;124mb\u001b[39m\u001b[38;5;124m'\u001b[39m\n\u001b[1;32m     19\u001b[0m         \u001b[38;5;28;01mtry\u001b[39;00m:\n",
      "File \u001b[0;32m/opt/conda/lib/python3.10/concurrent/futures/_base.py:621\u001b[0m, in \u001b[0;36mExecutor.map.<locals>.result_iterator\u001b[0;34m()\u001b[0m\n\u001b[1;32m    618\u001b[0m \u001b[38;5;28;01mwhile\u001b[39;00m fs:\n\u001b[1;32m    619\u001b[0m     \u001b[38;5;66;03m# Careful not to keep a reference to the popped future\u001b[39;00m\n\u001b[1;32m    620\u001b[0m     \u001b[38;5;28;01mif\u001b[39;00m timeout \u001b[38;5;129;01mis\u001b[39;00m \u001b[38;5;28;01mNone\u001b[39;00m:\n\u001b[0;32m--> 621\u001b[0m         \u001b[38;5;28;01myield\u001b[39;00m \u001b[43m_result_or_cancel\u001b[49m\u001b[43m(\u001b[49m\u001b[43mfs\u001b[49m\u001b[38;5;241;43m.\u001b[39;49m\u001b[43mpop\u001b[49m\u001b[43m(\u001b[49m\u001b[43m)\u001b[49m\u001b[43m)\u001b[49m\n\u001b[1;32m    622\u001b[0m     \u001b[38;5;28;01melse\u001b[39;00m:\n\u001b[1;32m    623\u001b[0m         \u001b[38;5;28;01myield\u001b[39;00m _result_or_cancel(fs\u001b[38;5;241m.\u001b[39mpop(), end_time \u001b[38;5;241m-\u001b[39m time\u001b[38;5;241m.\u001b[39mmonotonic())\n",
      "File \u001b[0;32m/opt/conda/lib/python3.10/concurrent/futures/_base.py:319\u001b[0m, in \u001b[0;36m_result_or_cancel\u001b[0;34m(***failed resolving arguments***)\u001b[0m\n\u001b[1;32m    317\u001b[0m \u001b[38;5;28;01mtry\u001b[39;00m:\n\u001b[1;32m    318\u001b[0m     \u001b[38;5;28;01mtry\u001b[39;00m:\n\u001b[0;32m--> 319\u001b[0m         \u001b[38;5;28;01mreturn\u001b[39;00m \u001b[43mfut\u001b[49m\u001b[38;5;241;43m.\u001b[39;49m\u001b[43mresult\u001b[49m\u001b[43m(\u001b[49m\u001b[43mtimeout\u001b[49m\u001b[43m)\u001b[49m\n\u001b[1;32m    320\u001b[0m     \u001b[38;5;28;01mfinally\u001b[39;00m:\n\u001b[1;32m    321\u001b[0m         fut\u001b[38;5;241m.\u001b[39mcancel()\n",
      "File \u001b[0;32m/opt/conda/lib/python3.10/concurrent/futures/_base.py:458\u001b[0m, in \u001b[0;36mFuture.result\u001b[0;34m(self, timeout)\u001b[0m\n\u001b[1;32m    456\u001b[0m     \u001b[38;5;28;01mraise\u001b[39;00m CancelledError()\n\u001b[1;32m    457\u001b[0m \u001b[38;5;28;01melif\u001b[39;00m \u001b[38;5;28mself\u001b[39m\u001b[38;5;241m.\u001b[39m_state \u001b[38;5;241m==\u001b[39m FINISHED:\n\u001b[0;32m--> 458\u001b[0m     \u001b[38;5;28;01mreturn\u001b[39;00m \u001b[38;5;28;43mself\u001b[39;49m\u001b[38;5;241;43m.\u001b[39;49m\u001b[43m__get_result\u001b[49m\u001b[43m(\u001b[49m\u001b[43m)\u001b[49m\n\u001b[1;32m    459\u001b[0m \u001b[38;5;28;01melse\u001b[39;00m:\n\u001b[1;32m    460\u001b[0m     \u001b[38;5;28;01mraise\u001b[39;00m \u001b[38;5;167;01mTimeoutError\u001b[39;00m()\n",
      "File \u001b[0;32m/opt/conda/lib/python3.10/concurrent/futures/_base.py:403\u001b[0m, in \u001b[0;36mFuture.__get_result\u001b[0;34m(self)\u001b[0m\n\u001b[1;32m    401\u001b[0m \u001b[38;5;28;01mif\u001b[39;00m \u001b[38;5;28mself\u001b[39m\u001b[38;5;241m.\u001b[39m_exception:\n\u001b[1;32m    402\u001b[0m     \u001b[38;5;28;01mtry\u001b[39;00m:\n\u001b[0;32m--> 403\u001b[0m         \u001b[38;5;28;01mraise\u001b[39;00m \u001b[38;5;28mself\u001b[39m\u001b[38;5;241m.\u001b[39m_exception\n\u001b[1;32m    404\u001b[0m     \u001b[38;5;28;01mfinally\u001b[39;00m:\n\u001b[1;32m    405\u001b[0m         \u001b[38;5;66;03m# Break a reference cycle with the exception in self._exception\u001b[39;00m\n\u001b[1;32m    406\u001b[0m         \u001b[38;5;28mself\u001b[39m \u001b[38;5;241m=\u001b[39m \u001b[38;5;28;01mNone\u001b[39;00m\n",
      "File \u001b[0;32m/opt/conda/lib/python3.10/concurrent/futures/thread.py:58\u001b[0m, in \u001b[0;36m_WorkItem.run\u001b[0;34m(self)\u001b[0m\n\u001b[1;32m     55\u001b[0m     \u001b[38;5;28;01mreturn\u001b[39;00m\n\u001b[1;32m     57\u001b[0m \u001b[38;5;28;01mtry\u001b[39;00m:\n\u001b[0;32m---> 58\u001b[0m     result \u001b[38;5;241m=\u001b[39m \u001b[38;5;28;43mself\u001b[39;49m\u001b[38;5;241;43m.\u001b[39;49m\u001b[43mfn\u001b[49m\u001b[43m(\u001b[49m\u001b[38;5;241;43m*\u001b[39;49m\u001b[38;5;28;43mself\u001b[39;49m\u001b[38;5;241;43m.\u001b[39;49m\u001b[43margs\u001b[49m\u001b[43m,\u001b[49m\u001b[43m \u001b[49m\u001b[38;5;241;43m*\u001b[39;49m\u001b[38;5;241;43m*\u001b[39;49m\u001b[38;5;28;43mself\u001b[39;49m\u001b[38;5;241;43m.\u001b[39;49m\u001b[43mkwargs\u001b[49m\u001b[43m)\u001b[49m\n\u001b[1;32m     59\u001b[0m \u001b[38;5;28;01mexcept\u001b[39;00m \u001b[38;5;167;01mBaseException\u001b[39;00m \u001b[38;5;28;01mas\u001b[39;00m exc:\n\u001b[1;32m     60\u001b[0m     \u001b[38;5;28mself\u001b[39m\u001b[38;5;241m.\u001b[39mfuture\u001b[38;5;241m.\u001b[39mset_exception(exc)\n",
      "Cell \u001b[0;32mIn[11], line 11\u001b[0m, in \u001b[0;36mobter_noticias\u001b[0;34m(url)\u001b[0m\n\u001b[1;32m      8\u001b[0m soup \u001b[38;5;241m=\u001b[39m BeautifulSoup(html_content, \u001b[38;5;124m'\u001b[39m\u001b[38;5;124mhtml.parser\u001b[39m\u001b[38;5;124m'\u001b[39m)\n\u001b[1;32m     10\u001b[0m dom \u001b[38;5;241m=\u001b[39m etree\u001b[38;5;241m.\u001b[39mHTML(\u001b[38;5;28mstr\u001b[39m(soup))\n\u001b[0;32m---> 11\u001b[0m noticia \u001b[38;5;241m=\u001b[39m \u001b[43mdom\u001b[49m\u001b[38;5;241;43m.\u001b[39;49m\u001b[43mxpath\u001b[49m\u001b[43m(\u001b[49m\u001b[38;5;124;43m'\u001b[39;49m\u001b[38;5;124;43m//*[@id=\u001b[39;49m\u001b[38;5;124;43m\"\u001b[39;49m\u001b[38;5;124;43mimagenet-content\u001b[39;49m\u001b[38;5;124;43m\"\u001b[39;49m\u001b[38;5;124;43m]/div[2]/div[1]/div/div/div[1]/div[1]/p\u001b[39;49m\u001b[38;5;124;43m'\u001b[39;49m\u001b[43m)\u001b[49m\u001b[43m[\u001b[49m\u001b[38;5;241;43m0\u001b[39;49m\u001b[43m]\u001b[49m\u001b[38;5;241m.\u001b[39mtext\n\u001b[1;32m     12\u001b[0m titulo \u001b[38;5;241m=\u001b[39m dom\u001b[38;5;241m.\u001b[39mxpath(\u001b[38;5;124m'\u001b[39m\u001b[38;5;124m//*[@id=\u001b[39m\u001b[38;5;124m\"\u001b[39m\u001b[38;5;124mimagenet-content\u001b[39m\u001b[38;5;124m\"\u001b[39m\u001b[38;5;124m]/div[2]/div[1]/div/h2\u001b[39m\u001b[38;5;124m'\u001b[39m)[\u001b[38;5;241m0\u001b[39m]\u001b[38;5;241m.\u001b[39mtext\n\u001b[1;32m     13\u001b[0m \u001b[38;5;28;01mreturn\u001b[39;00m noticia, url, titulo\n",
      "\u001b[0;31mIndexError\u001b[0m: list index out of range"
     ]
    }
   ],
   "source": [
    "def obter_noticias(url: str):\n",
    "    headers = {\n",
    "        'User-Agent': 'Mozilla/5.0 (Windows NT 10.0; Win64; x64) AppleWebKit/537.36 (KHTML, like Gecko) Chrome/58.0.3029.110 Safari/537.36'\n",
    "    }\n",
    "\n",
    "    response = requests.get(url, headers=headers)\n",
    "    html_content = response.text\n",
    "    soup = BeautifulSoup(html_content, 'html.parser')\n",
    "\n",
    "    dom = etree.HTML(str(soup))\n",
    "    noticia = dom.xpath('//*[@id=\"imagenet-content\"]/div[2]/div[1]/div/div/div[1]/div[1]/p')[0].text\n",
    "    titulo = dom.xpath('//*[@id=\"imagenet-content\"]/div[2]/div[1]/div/h2')[0].text\n",
    "    return noticia, url, titulo\n",
    "\n",
    "with ThreadPoolExecutor(max_workers=8) as executor:\n",
    "    noticias = []\n",
    "    for result, url, titulo in executor.map(obter_noticias, links):\n",
    "        padrao_data = r'\\b\\d{1,2}/\\d{2}/\\d{4}\\b'\n",
    "        try:\n",
    "            data_noticia = re.findall(padrao_data, result)[0]\n",
    "        except:\n",
    "            data_noticia = None\n",
    "        noticias.append({'data': data_noticia, 'titulo': titulo, 'url': url, 'noticia': result})\n",
    "        df = pd.DataFrame(noticias)\n",
    "\n",
    "        df.to_csv('../../../../work/data/ingestion/RAW/noticias_cepea.csv', index=False, mode='a', header=True,  quoting=csv.QUOTE_NONNUMERIC, escapechar=\"\\\\\", doublequote=False)"
   ]
  },
  {
   "cell_type": "code",
   "execution_count": 22,
   "id": "d260ac6d-4425-4847-83ac-0262b8274178",
   "metadata": {
    "tags": []
   },
   "outputs": [],
   "source": [
    "df = pd.read_csv('../../../../work/data/ingestion/RAW/noticias_agricolas.csv', on_bad_lines='skip')"
   ]
  },
  {
   "cell_type": "code",
   "execution_count": 23,
   "id": "ba64d2b0-8bdc-45ae-86f1-29bbb7526cee",
   "metadata": {
    "tags": []
   },
   "outputs": [
    {
     "data": {
      "text/html": [
       "<div>\n",
       "<style scoped>\n",
       "    .dataframe tbody tr th:only-of-type {\n",
       "        vertical-align: middle;\n",
       "    }\n",
       "\n",
       "    .dataframe tbody tr th {\n",
       "        vertical-align: top;\n",
       "    }\n",
       "\n",
       "    .dataframe thead th {\n",
       "        text-align: right;\n",
       "    }\n",
       "</style>\n",
       "<table border=\"1\" class=\"dataframe\">\n",
       "  <thead>\n",
       "    <tr style=\"text-align: right;\">\n",
       "      <th></th>\n",
       "      <th>data</th>\n",
       "      <th>titulo</th>\n",
       "      <th>noticia</th>\n",
       "    </tr>\n",
       "  </thead>\n",
       "  <tbody>\n",
       "    <tr>\n",
       "      <th>0</th>\n",
       "      <td>13/04/2023 18:26</td>\n",
       "      <td>BC anuncia rolagem de US$15 bi em swaps que ve...</td>\n",
       "      <td>SÃO PAULO (Reuters) - O Banco Central informou...</td>\n",
       "    </tr>\n",
       "    <tr>\n",
       "      <th>1</th>\n",
       "      <td>13/04/2023 17:51</td>\n",
       "      <td>Petróleo cai 1% após atingir máximas de vários...</td>\n",
       "      <td>Por Shariq Khan BENGALURU (Reuters) - Os preço...</td>\n",
       "    </tr>\n",
       "    <tr>\n",
       "      <th>2</th>\n",
       "      <td>13/04/2023 17:18</td>\n",
       "      <td>Wall St sobe após dados de inflação alimentare...</td>\n",
       "      <td>Por Stephen Culp NOVA YORK (Reuters) - As açõe...</td>\n",
       "    </tr>\n",
       "    <tr>\n",
       "      <th>3</th>\n",
       "      <td>13/04/2023 17:15</td>\n",
       "      <td>Colômbia também divulga dados de produção e ex...</td>\n",
       "      <td>NaN</td>\n",
       "    </tr>\n",
       "    <tr>\n",
       "      <th>4</th>\n",
       "      <td>13/04/2023 17:12</td>\n",
       "      <td>Dólar recua ante real pelo 3º dia seguido sob ...</td>\n",
       "      <td>SÃO PAULO (Reuters) -O dólar à vista emplacou ...</td>\n",
       "    </tr>\n",
       "    <tr>\n",
       "      <th>...</th>\n",
       "      <td>...</td>\n",
       "      <td>...</td>\n",
       "      <td>...</td>\n",
       "    </tr>\n",
       "    <tr>\n",
       "      <th>3915</th>\n",
       "      <td>14/03/2023 14:59</td>\n",
       "      <td>Com plantio de milho mais lento dos últimos 7 ...</td>\n",
       "      <td>O Departamento de Economia Rural (Deral) da Se...</td>\n",
       "    </tr>\n",
       "    <tr>\n",
       "      <th>3916</th>\n",
       "      <td>14/03/2023 14:49</td>\n",
       "      <td>Guilherme Sanches Ribeiro deixa o cargo de dir...</td>\n",
       "      <td>Foi decidido na noite de segunda-feira (13), a...</td>\n",
       "    </tr>\n",
       "    <tr>\n",
       "      <th>3917</th>\n",
       "      <td>14/03/2023 14:48</td>\n",
       "      <td>Ações europeias registram maior alta diária de...</td>\n",
       "      <td>Por Ankika Biswas e Sruthi Shankar (Reuters) -...</td>\n",
       "    </tr>\n",
       "    <tr>\n",
       "      <th>3918</th>\n",
       "      <td>14/03/2023 14:30</td>\n",
       "      <td>Artigo/Cepea: Com forte dependência do mercado...</td>\n",
       "      <td>* Por Mauro Osaki, Pesquisador da área de Cust...</td>\n",
       "    </tr>\n",
       "    <tr>\n",
       "      <th>3919</th>\n",
       "      <td>14/03/2023 14:17</td>\n",
       "      <td>Associação Brasileira de Citros de Mesa inaugu...</td>\n",
       "      <td>A solenidade de inauguração da nova sede da As...</td>\n",
       "    </tr>\n",
       "  </tbody>\n",
       "</table>\n",
       "<p>3920 rows × 3 columns</p>\n",
       "</div>"
      ],
      "text/plain": [
       "                  data                                             titulo   \n",
       "0     13/04/2023 18:26  BC anuncia rolagem de US$15 bi em swaps que ve...  \\\n",
       "1     13/04/2023 17:51  Petróleo cai 1% após atingir máximas de vários...   \n",
       "2     13/04/2023 17:18  Wall St sobe após dados de inflação alimentare...   \n",
       "3     13/04/2023 17:15  Colômbia também divulga dados de produção e ex...   \n",
       "4     13/04/2023 17:12  Dólar recua ante real pelo 3º dia seguido sob ...   \n",
       "...                ...                                                ...   \n",
       "3915  14/03/2023 14:59  Com plantio de milho mais lento dos últimos 7 ...   \n",
       "3916  14/03/2023 14:49  Guilherme Sanches Ribeiro deixa o cargo de dir...   \n",
       "3917  14/03/2023 14:48  Ações europeias registram maior alta diária de...   \n",
       "3918  14/03/2023 14:30  Artigo/Cepea: Com forte dependência do mercado...   \n",
       "3919  14/03/2023 14:17  Associação Brasileira de Citros de Mesa inaugu...   \n",
       "\n",
       "                                                noticia  \n",
       "0     SÃO PAULO (Reuters) - O Banco Central informou...  \n",
       "1     Por Shariq Khan BENGALURU (Reuters) - Os preço...  \n",
       "2     Por Stephen Culp NOVA YORK (Reuters) - As açõe...  \n",
       "3                                                   NaN  \n",
       "4     SÃO PAULO (Reuters) -O dólar à vista emplacou ...  \n",
       "...                                                 ...  \n",
       "3915  O Departamento de Economia Rural (Deral) da Se...  \n",
       "3916  Foi decidido na noite de segunda-feira (13), a...  \n",
       "3917  Por Ankika Biswas e Sruthi Shankar (Reuters) -...  \n",
       "3918  * Por Mauro Osaki, Pesquisador da área de Cust...  \n",
       "3919  A solenidade de inauguração da nova sede da As...  \n",
       "\n",
       "[3920 rows x 3 columns]"
      ]
     },
     "execution_count": 23,
     "metadata": {},
     "output_type": "execute_result"
    }
   ],
   "source": [
    "df"
   ]
  },
  {
   "cell_type": "code",
   "execution_count": null,
   "id": "a4b88720-76a6-4074-bbeb-010ebb4d70e5",
   "metadata": {},
   "outputs": [],
   "source": []
  }
 ],
 "metadata": {
  "kernelspec": {
   "display_name": "Python 3 (ipykernel)",
   "language": "python",
   "name": "python3"
  },
  "language_info": {
   "codemirror_mode": {
    "name": "ipython",
    "version": 3
   },
   "file_extension": ".py",
   "mimetype": "text/x-python",
   "name": "python",
   "nbconvert_exporter": "python",
   "pygments_lexer": "ipython3",
   "version": "3.10.6"
  }
 },
 "nbformat": 4,
 "nbformat_minor": 5
}
